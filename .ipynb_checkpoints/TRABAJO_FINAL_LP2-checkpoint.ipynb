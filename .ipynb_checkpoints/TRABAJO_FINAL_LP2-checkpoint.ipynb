{
 "cells": [
  {
   "cell_type": "markdown",
   "id": "4160b993",
   "metadata": {},
   "source": [
    "# TRABAJO FINAL"
   ]
  },
  {
   "cell_type": "code",
   "execution_count": 1,
   "id": "129b76ce",
   "metadata": {},
   "outputs": [],
   "source": [
    "#importando librerias \n",
    "import pandas as pd\n",
    "import requests\n",
    "from bs4 import BeautifulSoup\n",
    "import re"
   ]
  },
  {
   "cell_type": "code",
   "execution_count": 43,
   "id": "f5bf1022",
   "metadata": {},
   "outputs": [],
   "source": [
    "df= pd.read_excel('02 Ch Genes ordenados con vecinos.xlsx',engine='openpyxl',sheet_name=None,skiprows=[0],usecols=range(18))"
   ]
  },
  {
   "cell_type": "code",
   "execution_count": 3,
   "id": "f6429cc4",
   "metadata": {},
   "outputs": [
    {
     "data": {
      "text/plain": [
       "['Información',\n",
       " 'C1 Milagros',\n",
       " 'C2 Wilmer',\n",
       " 'C3 Gisell',\n",
       " 'C4 Jerica',\n",
       " 'C5 Manuel',\n",
       " 'C6 Jerica',\n",
       " 'C7 Mariana',\n",
       " 'C8 Rosha',\n",
       " 'C9 Jerica',\n",
       " 'C10 Lucero',\n",
       " 'C11 Nicole',\n",
       " 'C12 Gisell',\n",
       " 'C13 Lucero',\n",
       " 'C14 Wilmer',\n",
       " 'C15Milagros',\n",
       " 'C16',\n",
       " 'C17',\n",
       " 'C18',\n",
       " 'Hoja 20',\n",
       " 'Hoja 21',\n",
       " 'Hoja 22',\n",
       " 'Hoja 23']"
      ]
     },
     "execution_count": 3,
     "metadata": {},
     "output_type": "execute_result"
    }
   ],
   "source": [
    "nombres=list(df.keys())\n",
    "nombres"
   ]
  },
  {
   "cell_type": "code",
   "execution_count": 23,
   "id": "a2bbaae9",
   "metadata": {},
   "outputs": [],
   "source": [
    "hojas=[]\n",
    "for nombre in nombres: \n",
    "    if 'Gen Abrev' in list(df.get(nombre).columns):\n",
    "        hojas.append(df.get(nombre)[df.get(nombre)['Gen Abrev'].notnull()])"
   ]
  },
  {
   "cell_type": "code",
   "execution_count": 24,
   "id": "73d39adb",
   "metadata": {},
   "outputs": [],
   "source": [
    "genes=[]\n",
    "for hoja in hojas: \n",
    "    genes.append(hoja['Gen Abrev'].tolist())"
   ]
  },
  {
   "cell_type": "code",
   "execution_count": 44,
   "id": "7aafc3e8",
   "metadata": {},
   "outputs": [
    {
     "data": {
      "text/plain": [
       "['TRNAS-GGA',\n",
       " 'LOC102173449',\n",
       " 'LOC102169333',\n",
       " 'LOC108636757',\n",
       " 'LOC102187712',\n",
       " 'VGLL3',\n",
       " 'CHMP2B',\n",
       " 'POU1F1',\n",
       " 'HTR1F',\n",
       " 'LOC102188976',\n",
       " 'CGGBP1',\n",
       " 'ZNF654',\n",
       " 'C1H3orf38',\n",
       " 'LOC102190548',\n",
       " 'SLC12A8',\n",
       " 'LOC106502043',\n",
       " 'ZNF148',\n",
       " 'SNX4',\n",
       " 'OSBPL11',\n",
       " 'LMLN',\n",
       " 'RPL35A',\n",
       " 'IQCG',\n",
       " 'LRCH3',\n",
       " 'FYTTD1',\n",
       " 'RUBCN',\n",
       " 'MUC20',\n",
       " 'MUC4',\n",
       " 'TNK2',\n",
       " 'TFRC',\n",
       " 'ZDHHC19',\n",
       " 'SLC51A',\n",
       " 'PCYT1A',\n",
       " 'TCTEX1D2',\n",
       " 'TM4SF19',\n",
       " 'UBXN7',\n",
       " 'LOC102173689',\n",
       " 'LOC106501980',\n",
       " 'RNF168',\n",
       " 'SMCO1',\n",
       " 'WDR53',\n",
       " 'FBXO45',\n",
       " 'LOC102175715',\n",
       " 'NRROS',\n",
       " 'CEP19',\n",
       " 'PIGX',\n",
       " 'PAK2',\n",
       " 'LOC108635601',\n",
       " 'SENP5',\n",
       " 'NCBP2',\n",
       " 'PIGZ',\n",
       " 'LOC102176365',\n",
       " 'MELTF',\n",
       " 'RTP2',\n",
       " 'SST',\n",
       " 'RTP4',\n",
       " 'LOC102171192',\n",
       " 'MASP1',\n",
       " 'RTP1',\n",
       " 'LOC102179137',\n",
       " 'ST6GAL1',\n",
       " 'TRNAK-UUU',\n",
       " 'ADIPOQ',\n",
       " 'RFC4',\n",
       " 'EIF4A2',\n",
       " 'MIR1248',\n",
       " 'KNG1',\n",
       " 'HRG',\n",
       " 'FETUB',\n",
       " 'AHSG',\n",
       " 'LOC108635832',\n",
       " 'DNAJB11',\n",
       " 'TBCCD1',\n",
       " 'CRYGS',\n",
       " 'DGKG',\n",
       " 'ETV5',\n",
       " 'LOC102179418',\n",
       " 'LOC108635834',\n",
       " 'LOC102178398',\n",
       " 'IGF2BP2',\n",
       " 'SENP2',\n",
       " 'POLR2H',\n",
       " 'CLCN2',\n",
       " 'LOC106502122',\n",
       " 'FAM131A',\n",
       " 'EIF4G1',\n",
       " 'PSMD2',\n",
       " 'ECE2',\n",
       " 'CAMK2N2',\n",
       " 'ALG3',\n",
       " 'MIR1224',\n",
       " 'ABCF3',\n",
       " 'AP2M1',\n",
       " 'DVL3',\n",
       " 'EIF2B5',\n",
       " 'LOC102185396',\n",
       " 'LOC102185870',\n",
       " 'LOC102183010',\n",
       " 'LOC108636852',\n",
       " 'LOC102183269',\n",
       " 'ABCC5',\n",
       " 'LOC102183549',\n",
       " 'PARL',\n",
       " 'MAP6D1',\n",
       " 'YEATS2',\n",
       " 'LOC102187268',\n",
       " 'KLHL24',\n",
       " 'LOC108636351',\n",
       " 'KLHL6',\n",
       " 'LOC102188899',\n",
       " 'MCF2L2',\n",
       " 'LOC102189625',\n",
       " 'LOC108635871',\n",
       " 'B3GNT5',\n",
       " 'LOC106501989',\n",
       " 'LAMP3',\n",
       " 'MCCC1',\n",
       " 'DCUN1D1',\n",
       " 'ATP11B',\n",
       " 'TRNAS-GGA',\n",
       " 'LOC106502158',\n",
       " 'TNIK',\n",
       " 'SLC2A2',\n",
       " 'LOC102189522',\n",
       " 'EIF5A2',\n",
       " 'RPL22L1',\n",
       " 'SLC7A14',\n",
       " 'CLDN11',\n",
       " 'SKIL',\n",
       " 'PRKCI',\n",
       " 'PHC3',\n",
       " 'LOC102179814',\n",
       " 'GPR160',\n",
       " 'LOC108636005',\n",
       " 'LOC102189800',\n",
       " 'SEC62',\n",
       " 'SAMD7',\n",
       " 'LRRC31',\n",
       " 'LRRIQ4',\n",
       " 'TRNAY-GUA',\n",
       " 'LRRC34',\n",
       " 'MYNN',\n",
       " 'ACTRT3',\n",
       " 'TRNAV-AAC',\n",
       " 'LOC108636013',\n",
       " 'LOC106502248',\n",
       " 'SHOX2',\n",
       " 'VEPH1',\n",
       " 'LOC102179325',\n",
       " 'PTX3',\n",
       " 'LOC108636061',\n",
       " 'CCNL1',\n",
       " 'LOC106502323',\n",
       " 'LEKR1',\n",
       " 'TIPARP',\n",
       " 'LOC102177566',\n",
       " 'SSR3',\n",
       " 'LOC102179240',\n",
       " 'LOC102179815',\n",
       " 'RAP2B',\n",
       " 'P2RY1',\n",
       " 'LOC106502324',\n",
       " 'MBNL1',\n",
       " 'LOC102180350',\n",
       " 'SUCNR1',\n",
       " 'LOC102189434',\n",
       " 'LOC102181165',\n",
       " 'LOC102176168',\n",
       " 'LOC102189713',\n",
       " 'LOC102179183',\n",
       " 'LOC102179464',\n",
       " 'LOC102178896',\n",
       " 'LOC108636081',\n",
       " 'TFF3',\n",
       " 'TFF2',\n",
       " 'TFF1',\n",
       " 'TMPRSS3',\n",
       " 'UBASH3A',\n",
       " 'RSPH1',\n",
       " 'SLC37A1',\n",
       " 'PDE9A',\n",
       " 'WDR4',\n",
       " 'NDUFV3',\n",
       " 'PKNOX1',\n",
       " 'ADARB1',\n",
       " 'POFUT2',\n",
       " 'COL18A1',\n",
       " 'SLC19A1',\n",
       " 'PCBP3',\n",
       " 'LOC102190823',\n",
       " 'COL6A1',\n",
       " 'COL6A2',\n",
       " 'FTCD',\n",
       " 'SPATC1L',\n",
       " 'LSS',\n",
       " 'MCM3AP',\n",
       " 'YBEY',\n",
       " 'C1H21orf58',\n",
       " 'PCNT',\n",
       " 'LOC108636576',\n",
       " 'LOC102169226',\n",
       " 'DIP2A',\n",
       " 'S100B',\n",
       " 'PRMT2',\n",
       " 'FBXO25',\n",
       " 'TDRP',\n",
       " 'LOC102177758',\n",
       " 'DAZL',\n",
       " 'PLCL2',\n",
       " 'TBC1D5',\n",
       " 'TRNAW-CCA',\n",
       " 'SATB1',\n",
       " 'KCNH8',\n",
       " 'Persona',\n",
       " 'Milagros',\n",
       " 'Milagros',\n",
       " 'Milagros',\n",
       " 'Milagros',\n",
       " 'Milagros',\n",
       " 'Milagros',\n",
       " 'Milagros',\n",
       " 'Milagros']"
      ]
     },
     "execution_count": 44,
     "metadata": {},
     "output_type": "execute_result"
    }
   ],
   "source": [
    "genes[0]"
   ]
  },
  {
   "cell_type": "code",
   "execution_count": 28,
   "id": "eefb4825",
   "metadata": {},
   "outputs": [],
   "source": [
    "links=[]\n",
    "for lista in genes:\n",
    "    links1=[]\n",
    "    for gen in lista: \n",
    "        if type(gen)==str:\n",
    "            url = \"https://www.uniprot.org/uniprot/?query=\"+gen+\"+Capra+Hircus&sort=score\"\n",
    "            #print(url)\n",
    "            links1.append(url)\n",
    "    links.append(links1)"
   ]
  },
  {
   "cell_type": "code",
   "execution_count": 40,
   "id": "d7a2a320",
   "metadata": {},
   "outputs": [],
   "source": [
    "# Se crea una función para determinar el número de genes que se desea extraer del excel\n",
    "def num_genes():\n",
    "    #se pregunta si se desea un número exacto o todos los genes\n",
    "    x=input(\"¿Desea extraer un número exacto de genes?, S/N\")\n",
    "    #si la respuesta es si\n",
    "    if x=='S':\n",
    "        #se ingresa la cantidad de datos que se solicita\n",
    "        Ngenes=int(input(\"Ingrese el número de genes que desea extraer de cada hoja: \"))\n",
    "        return Ngenes\n",
    "    #si la respuesta es no\n",
    "    elif x=='N':\n",
    "        # se retorna un número muy grande que sobrepase la cantidad de genes en las hojas \n",
    "        return 99999999\n",
    "    # en caso de colocar una respuesta erronea se vuelve a la pregunta inicial\n",
    "    else:\n",
    "        return num_genes()"
   ]
  },
  {
   "cell_type": "code",
   "execution_count": 46,
   "id": "44cdebb8",
   "metadata": {},
   "outputs": [
    {
     "name": "stdout",
     "output_type": "stream",
     "text": [
      "¿Desea extraer un número exacto de genes?, S/NS\n",
      "Ingrese el número de genes que desea extraer de cada hoja: 15\n",
      "Progreso de las hojas del excel\n"
     ]
    },
    {
     "data": {
      "application/vnd.jupyter.widget-view+json": {
       "model_id": "6898c8f8779a42d881b285310816c7b4",
       "version_major": 2,
       "version_minor": 0
      },
      "text/plain": [
       "  0%|          | 0/18 [00:00<?, ?it/s]"
      ]
     },
     "metadata": {},
     "output_type": "display_data"
    },
    {
     "name": "stdout",
     "output_type": "stream",
     "text": [
      "\n",
      "Progreso de los genes en la hoja actual\n"
     ]
    },
    {
     "data": {
      "application/vnd.jupyter.widget-view+json": {
       "model_id": "ed2db090f7164f6b9cbcca7f38d79bbf",
       "version_major": 2,
       "version_minor": 0
      },
      "text/plain": [
       "  0%|          | 0/15 [00:00<?, ?it/s]"
      ]
     },
     "metadata": {},
     "output_type": "display_data"
    },
    {
     "name": "stdout",
     "output_type": "stream",
     "text": [
      "Hoja Actual: C1 Milagros     Gen actual: SLC12A890548\n",
      "Progreso de los genes en la hoja actual\n"
     ]
    },
    {
     "data": {
      "application/vnd.jupyter.widget-view+json": {
       "model_id": "2935ad1fe95a43afb1325a931e368071",
       "version_major": 2,
       "version_minor": 0
      },
      "text/plain": [
       "  0%|          | 0/15 [00:00<?, ?it/s]"
      ]
     },
     "metadata": {},
     "output_type": "display_data"
    },
    {
     "name": "stdout",
     "output_type": "stream",
     "text": [
      "Hoja Actual: C2 Wilmer     Gen actual: NECAP2179430\n",
      "Progreso de los genes en la hoja actual\n"
     ]
    },
    {
     "data": {
      "application/vnd.jupyter.widget-view+json": {
       "model_id": "ee599ed21df04c9c8c138bfc4b8fd749",
       "version_major": 2,
       "version_minor": 0
      },
      "text/plain": [
       "  0%|          | 0/15 [00:00<?, ?it/s]"
      ]
     },
     "metadata": {},
     "output_type": "display_data"
    },
    {
     "name": "stdout",
     "output_type": "stream",
     "text": [
      "Hoja Actual: C3 Gisell     Gen actual: ATG4B8633807\n",
      "Progreso de los genes en la hoja actual\n"
     ]
    },
    {
     "data": {
      "application/vnd.jupyter.widget-view+json": {
       "model_id": "369b0995ed694bb8963b51cf3b6c32f3",
       "version_major": 2,
       "version_minor": 0
      },
      "text/plain": [
       "  0%|          | 0/15 [00:00<?, ?it/s]"
      ]
     },
     "metadata": {},
     "output_type": "display_data"
    },
    {
     "name": "stdout",
     "output_type": "stream",
     "text": [
      "Hoja Actual: C4 Jerica     Gen actual: PRKAG2583393\n",
      "Progreso de los genes en la hoja actual\n"
     ]
    },
    {
     "data": {
      "application/vnd.jupyter.widget-view+json": {
       "model_id": "46292c521b4d454eaef9f8ae2a48d5e8",
       "version_major": 2,
       "version_minor": 0
      },
      "text/plain": [
       "  0%|          | 0/15 [00:00<?, ?it/s]"
      ]
     },
     "metadata": {},
     "output_type": "display_data"
    },
    {
     "name": "stdout",
     "output_type": "stream",
     "text": [
      "Hoja Actual: C5 Manuel     Gen actual: HOXC66502088\n",
      "Progreso de los genes en la hoja actual\n"
     ]
    },
    {
     "data": {
      "application/vnd.jupyter.widget-view+json": {
       "model_id": "19af1474f62040b7954c6e8626effda6",
       "version_major": 2,
       "version_minor": 0
      },
      "text/plain": [
       "  0%|          | 0/15 [00:00<?, ?it/s]"
      ]
     },
     "metadata": {},
     "output_type": "display_data"
    },
    {
     "name": "stdout",
     "output_type": "stream",
     "text": [
      "Hoja Actual: C6 Jerica     Gen actual: SPP128636216\n",
      "Progreso de los genes en la hoja actual\n"
     ]
    },
    {
     "data": {
      "application/vnd.jupyter.widget-view+json": {
       "model_id": "49c5c36c96464b499ba24d5b95d809e5",
       "version_major": 2,
       "version_minor": 0
      },
      "text/plain": [
       "  0%|          | 0/15 [00:00<?, ?it/s]"
      ]
     },
     "metadata": {},
     "output_type": "display_data"
    },
    {
     "name": "stdout",
     "output_type": "stream",
     "text": [
      "Hoja Actual: C7 Mariana     Gen actual: TRC-GCA7-123\n",
      "Progreso de los genes en la hoja actual\n"
     ]
    },
    {
     "data": {
      "application/vnd.jupyter.widget-view+json": {
       "model_id": "5043f46b7423415ea70fc75a8adf29cc",
       "version_major": 2,
       "version_minor": 0
      },
      "text/plain": [
       "  0%|          | 0/15 [00:00<?, ?it/s]"
      ]
     },
     "metadata": {},
     "output_type": "display_data"
    },
    {
     "name": "stdout",
     "output_type": "stream",
     "text": [
      "Hoja Actual: C8 Rosha     Gen actual: RIC1TSL1A668\n",
      "Progreso de los genes en la hoja actual\n"
     ]
    },
    {
     "data": {
      "application/vnd.jupyter.widget-view+json": {
       "model_id": "137fd8f941474f7dbf27e53ba21bb869",
       "version_major": 2,
       "version_minor": 0
      },
      "text/plain": [
       "  0%|          | 0/15 [00:00<?, ?it/s]"
      ]
     },
     "metadata": {},
     "output_type": "display_data"
    },
    {
     "name": "stdout",
     "output_type": "stream",
     "text": [
      "Hoja Actual: C9 Jerica     Gen actual: CRYBG1180126\n",
      "Progreso de los genes en la hoja actual\n"
     ]
    },
    {
     "data": {
      "application/vnd.jupyter.widget-view+json": {
       "model_id": "5a66f6d299fb42c7a202b0866fd6c74f",
       "version_major": 2,
       "version_minor": 0
      },
      "text/plain": [
       "  0%|          | 0/15 [00:00<?, ?it/s]"
      ]
     },
     "metadata": {},
     "output_type": "display_data"
    },
    {
     "name": "stdout",
     "output_type": "stream",
     "text": [
      "Hoja Actual: C10 Lucero     Gen actual: FOXN38636919\n",
      "Progreso de los genes en la hoja actual\n"
     ]
    },
    {
     "data": {
      "application/vnd.jupyter.widget-view+json": {
       "model_id": "439a9e50c2f64f788b59f6bf895d7f74",
       "version_major": 2,
       "version_minor": 0
      },
      "text/plain": [
       "  0%|          | 0/15 [00:00<?, ?it/s]"
      ]
     },
     "metadata": {},
     "output_type": "display_data"
    },
    {
     "name": "stdout",
     "output_type": "stream",
     "text": [
      "Hoja Actual: C11 Nicole     Gen actual: ZNF514173309\n",
      "Progreso de los genes en la hoja actual\n"
     ]
    },
    {
     "data": {
      "application/vnd.jupyter.widget-view+json": {
       "model_id": "739e451de9de41ccbb1503702d49a8fb",
       "version_major": 2,
       "version_minor": 0
      },
      "text/plain": [
       "  0%|          | 0/15 [00:00<?, ?it/s]"
      ]
     },
     "metadata": {},
     "output_type": "display_data"
    },
    {
     "name": "stdout",
     "output_type": "stream",
     "text": [
      "Hoja Actual: C12 Gisell     Gen actual: LOC102177727\n",
      "Progreso de los genes en la hoja actual\n"
     ]
    },
    {
     "data": {
      "application/vnd.jupyter.widget-view+json": {
       "model_id": "5c6960a8b00048aeb14b220b03194601",
       "version_major": 2,
       "version_minor": 0
      },
      "text/plain": [
       "  0%|          | 0/15 [00:00<?, ?it/s]"
      ]
     },
     "metadata": {},
     "output_type": "display_data"
    },
    {
     "name": "stdout",
     "output_type": "stream",
     "text": [
      "Hoja Actual: C13 Lucero     Gen actual: NINL02170614\n",
      "Progreso de los genes en la hoja actual\n"
     ]
    },
    {
     "data": {
      "application/vnd.jupyter.widget-view+json": {
       "model_id": "19d2f9fb522e4a98885201f59a294ba6",
       "version_major": 2,
       "version_minor": 0
      },
      "text/plain": [
       "  0%|          | 0/15 [00:00<?, ?it/s]"
      ]
     },
     "metadata": {},
     "output_type": "display_data"
    },
    {
     "name": "stdout",
     "output_type": "stream",
     "text": [
      "Hoja Actual: C14 Wilmer     Gen actual: TRNAC-GCA517\n",
      "Progreso de los genes en la hoja actual\n"
     ]
    },
    {
     "data": {
      "application/vnd.jupyter.widget-view+json": {
       "model_id": "bcb8c0c9ee5c46f5a95905981b9d25f6",
       "version_major": 2,
       "version_minor": 0
      },
      "text/plain": [
       "  0%|          | 0/15 [00:00<?, ?it/s]"
      ]
     },
     "metadata": {},
     "output_type": "display_data"
    },
    {
     "name": "stdout",
     "output_type": "stream",
     "text": [
      "Hoja Actual: C15Milagros     Gen actual: LOC102176713\n",
      "Progreso de los genes en la hoja actual\n"
     ]
    },
    {
     "data": {
      "application/vnd.jupyter.widget-view+json": {
       "model_id": "2624ce00f3cf4497afaec3af53d3fc4f",
       "version_major": 2,
       "version_minor": 0
      },
      "text/plain": [
       "  0%|          | 0/15 [00:00<?, ?it/s]"
      ]
     },
     "metadata": {},
     "output_type": "display_data"
    },
    {
     "name": "stdout",
     "output_type": "stream",
     "text": [
      "Hoja Actual: C16     Gen actual: LOC102190981\n",
      "Progreso de los genes en la hoja actual\n"
     ]
    },
    {
     "data": {
      "application/vnd.jupyter.widget-view+json": {
       "model_id": "ecd5d67051124696b5927906bb8bf0e3",
       "version_major": 2,
       "version_minor": 0
      },
      "text/plain": [
       "  0%|          | 0/15 [00:00<?, ?it/s]"
      ]
     },
     "metadata": {},
     "output_type": "display_data"
    },
    {
     "name": "stdout",
     "output_type": "stream",
     "text": [
      "Hoja Actual: C17     Gen actual: SMTN02171091\n",
      "Progreso de los genes en la hoja actual\n"
     ]
    },
    {
     "data": {
      "application/vnd.jupyter.widget-view+json": {
       "model_id": "d4aa45b046654f31aceebaec16f9f1f3",
       "version_major": 2,
       "version_minor": 0
      },
      "text/plain": [
       "  0%|          | 0/15 [00:00<?, ?it/s]"
      ]
     },
     "metadata": {},
     "output_type": "display_data"
    },
    {
     "name": "stdout",
     "output_type": "stream",
     "text": [
      "Hoja Actual: C18     Gen actual: LOC102184183"
     ]
    }
   ],
   "source": [
    "from tqdm.notebook import tqdm\n",
    "writer = pd.ExcelWriter('GenesRepository.xlsx', engine='openpyxl')\n",
    "#Se llama a la función en una variable \n",
    "n_genes=num_genes()\n",
    "print(\"Progreso de las hojas del excel\")\n",
    "for j in tqdm(range(len(links))):#se va de hoja en hoja \n",
    "    lista = links[j]\n",
    "    htmlList=[]\n",
    "    datos=[]\n",
    "    print(\"\\nProgreso de los genes en la hoja actual\")\n",
    "    #Se solicita el mínimo de entre la cantidad de elementos de la lista y la cantidad de genes solicitados \n",
    "    for i in tqdm(range(min(len(lista),n_genes))):#Se va de gen en gen \n",
    "        print(\"\\rHoja Actual: \"+nombres[j+1]+\"     Gen actual: \"+genes[j][i],end=\"\")\n",
    "        link=lista[i]\n",
    "        r = requests.get(link)\n",
    "        soup = BeautifulSoup(r.text, 'lxml')\n",
    "        html=soup\n",
    "        datos1=[]\n",
    "        if html.find(\"td\",{\"class\":\"entryID\"})!=None:\n",
    "            datos1.append(html.find(\"td\",{'class':\"entryID\"}).a.text)\n",
    "            datos1.append(html.find(\"td\",{'class':\"entryID\"}).find_next_sibling(\"td\").text)\n",
    "            link='https://www.uniprot.org'+html.find(\"td\",{'class':\"entryID\"}).a['href']\n",
    "            r1=requests.get(link)\n",
    "            soup1=BeautifulSoup(r1.text, 'lxml')\n",
    "            datos1.append(soup1.find(\"div\",{'id':\"content-protein\"}).h1.text)\n",
    "            if soup1.find(\"div\",{'id':\"content-gene\"}).h2!=None:\n",
    "                datos1.append(soup1.find(\"div\",{'id':\"content-gene\"}).h2.text)\n",
    "            else:\n",
    "                datos1.append(None)\n",
    "            datos1.append(soup1.find(\"div\",{'id':\"content-organism\"}).text.split(\" (\")[0])\n",
    "            datos1.append(soup1.find(\"div\",{'id':\"content-status\"}).a.text)\n",
    "            tag = soup1.find(lambda tag:tag.name==\"h4\" and \"GO - Biological process\" in tag.text)\n",
    "            if(tag==None):\n",
    "                datos1.append(None)\n",
    "            else: \n",
    "                lists= tag.next_sibling\n",
    "                listaTemp=[]\n",
    "                for l in lists:\n",
    "                    listaTemp.append(l.text.split(\" Source\")[0])\n",
    "                datos1.append(\",\".join(listaTemp))\n",
    "        datos.append(datos1)\n",
    "    df_datos=pd.DataFrame(datos, columns=[\"Entry\",\"Entry name\",\"Protein\",\"Gene\",\"Organism\",\"Status\",\"GO - Biological process\"])\n",
    "    df_genes=pd.DataFrame(genes[j],columns=[\"Gen Abrev\"])\n",
    "    df_final=pd.concat([df_genes.head(20),df_datos],axis=1)\n",
    "    df_final.index.name='N°'\n",
    "    df_final=df_final.fillna(value='NaN')\n",
    "    df_final.to_excel(writer,sheet_name=nombres[j+1])\n",
    "    writer.save()"
   ]
  },
  {
   "cell_type": "code",
   "execution_count": null,
   "id": "c40f4e9c",
   "metadata": {},
   "outputs": [],
   "source": []
  }
 ],
 "metadata": {
  "kernelspec": {
   "display_name": "Python 3 (ipykernel)",
   "language": "python",
   "name": "python3"
  },
  "language_info": {
   "codemirror_mode": {
    "name": "ipython",
    "version": 3
   },
   "file_extension": ".py",
   "mimetype": "text/x-python",
   "name": "python",
   "nbconvert_exporter": "python",
   "pygments_lexer": "ipython3",
   "version": "3.8.11"
  }
 },
 "nbformat": 4,
 "nbformat_minor": 5
}
