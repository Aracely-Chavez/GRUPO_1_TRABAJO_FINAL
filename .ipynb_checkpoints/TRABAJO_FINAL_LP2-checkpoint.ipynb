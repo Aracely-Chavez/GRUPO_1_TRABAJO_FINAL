{
 "cells": [
  {
   "cell_type": "markdown",
   "id": "72574839",
   "metadata": {},
   "source": [
    "# **<font color='green'>TRABAJO FINAL</font>**"
   ]
  },
  {
   "cell_type": "markdown",
   "id": "fd7d5697",
   "metadata": {},
   "source": [
    "## <font color='blue'> Uniprot </font> \n",
    "- Para este trabajo se va realizar web scraping a la pagina UniProt, dicha pagina tiene como funcion proporcionar a la comunidad científica un recurso completo, de alta calidad y de libre acceso de secuencia de proteínas e información funcional."
   ]
  },
  {
   "cell_type": "code",
   "execution_count": 1,
   "id": "129b76ce",
   "metadata": {},
   "outputs": [],
   "source": [
    "#importando librerias \n",
    "import pandas as pd\n",
    "import requests\n",
    "from bs4 import BeautifulSoup\n",
    "import re"
   ]
  },
  {
   "cell_type": "code",
   "execution_count": 2,
   "id": "f5bf1022",
   "metadata": {},
   "outputs": [],
   "source": [
    "# Lee todas las páginas que hay en el excel, obvia la primera fila y además solo usa las primeras 18 columnas\n",
    "df= pd.read_excel('02 Ch Genes ordenados con vecinos.xlsx',engine='openpyxl',sheet_name=None,skiprows=[0],usecols=range(18))"
   ]
  },
  {
   "cell_type": "code",
   "execution_count": 3,
   "id": "f6429cc4",
   "metadata": {},
   "outputs": [
    {
     "data": {
      "text/plain": [
       "['Información',\n",
       " 'C1 Milagros',\n",
       " 'C2 Wilmer',\n",
       " 'C3 Gisell',\n",
       " 'C4 Jerica',\n",
       " 'C5 Manuel',\n",
       " 'C6 Jerica',\n",
       " 'C7 Mariana',\n",
       " 'C8 Rosha',\n",
       " 'C9 Jerica',\n",
       " 'C10 Lucero',\n",
       " 'C11 Nicole',\n",
       " 'C12 Gisell',\n",
       " 'C13 Lucero',\n",
       " 'C14 Wilmer',\n",
       " 'C15Milagros',\n",
       " 'C16',\n",
       " 'C17',\n",
       " 'C18',\n",
       " 'Hoja 20',\n",
       " 'Hoja 21',\n",
       " 'Hoja 22',\n",
       " 'Hoja 23']"
      ]
     },
     "execution_count": 3,
     "metadata": {},
     "output_type": "execute_result"
    }
   ],
   "source": [
    "# Se extrae los nombres de las páginas del excel y se guarda en el objeto \"nombres\"\n",
    "nombres=list(df.keys())\n",
    "nombres"
   ]
  },
  {
   "cell_type": "code",
   "execution_count": 4,
   "id": "cfb00d69",
   "metadata": {},
   "outputs": [],
   "source": [
    "hojas=[]               # Se crea una lista vacia y se almacena en el objeto \"hojas\"\n",
    "for nombre in nombres: # Se crea un bucle para cada nombre de las páginas en excel en la lista de \"nombres\"\n",
    "    if 'Gen Abrev' in list(df.get(nombre).columns): # Si es que en la página de excel esta la columna \"Gen Abrev\", se continua con la iteración\n",
    "        hojas.append(df.get(nombre)[df.get(nombre)['Gen Abrev'].notnull()]) # Agregar los datos de cada página en la lista de \"hojas\""
   ]
  },
  {
   "cell_type": "code",
   "execution_count": 5,
   "id": "73d39adb",
   "metadata": {},
   "outputs": [],
   "source": [
    "genes=[]           # Se crea una lista vacia y se almacena en el objeto \"genes\"\n",
    "for hoja in hojas: # Se crea un bucle para cada página en la lista de hojas\n",
    "    genes.append(hoja['Gen Abrev'].tolist()) # Se guardan los datos de la columna \"Gen Abrev\" en la lista de \"genes\""
   ]
  },
  {
   "cell_type": "code",
   "execution_count": 6,
   "id": "c02eb6ad",
   "metadata": {},
   "outputs": [
    {
     "data": {
      "text/plain": [
       "['TRNAS-GGA',\n",
       " 'LOC102173449',\n",
       " 'LOC102169333',\n",
       " 'LOC108636757',\n",
       " 'LOC102187712',\n",
       " 'VGLL3']"
      ]
     },
     "execution_count": 6,
     "metadata": {},
     "output_type": "execute_result"
    }
   ],
   "source": [
    "#vista de los 6 primeros genes de la primera hoja del excel\n",
    "genes[0][:6]"
   ]
  },
  {
   "cell_type": "code",
   "execution_count": 7,
   "id": "eefb4825",
   "metadata": {},
   "outputs": [],
   "source": [
    "links=[]              # Se crea una lista vacia y se almacena en el objeto \"links\"\n",
    "for lista in genes:   # Se crea un bucle para cada lista de genes en cada pagina\n",
    "    links1=[]         # Se crea una lista vacia y se almancena en el objeto \"links1\"\n",
    "    for gen in lista: # Se crea un bucle para cada gen en cada lista de genes\n",
    "        if type(gen)==str:  # Si el objeto gen es de tipo string, se continua con la iteración\n",
    "            url = \"https://www.uniprot.org/uniprot/?query=\"+gen+\"+Capra+Hircus&sort=score\" # Se crea el objeto \"url\" para cada gen\n",
    "            #print(url)\n",
    "            links1.append(url) # Se guardan todos los url en la lista \"links1\"\n",
    "    links.append(links1)"
   ]
  },
  {
   "cell_type": "code",
   "execution_count": 8,
   "id": "d7a2a320",
   "metadata": {},
   "outputs": [],
   "source": [
    "# Se crea una función para determinar el número de genes que se desea extraer del excel\n",
    "def num_genes():\n",
    "    #se pregunta si se desea un número exacto o todos los genes\n",
    "    x=input(\"¿Desea extraer un número exacto de genes?, S/N\")\n",
    "    #si la respuesta es si\n",
    "    if x=='S':\n",
    "        #se ingresa la cantidad de datos que se solicita\n",
    "        Ngenes=int(input(\"Ingrese el número de genes que desea extraer de cada hoja: \"))\n",
    "        return Ngenes\n",
    "    #si la respuesta es no\n",
    "    elif x=='N':\n",
    "        # se retorna un número muy grande que sobrepase la cantidad de genes en las hojas \n",
    "        return 99999999\n",
    "    # en caso de colocar una respuesta erronea se vuelve a la pregunta inicial\n",
    "    else:\n",
    "        return num_genes()"
   ]
  },
  {
   "cell_type": "markdown",
   "id": "f639267c",
   "metadata": {},
   "source": [
    "### <font color='blue'> Descripcion de la libreria tqdm </font> \n",
    "- Es un pequeño módulo que permite crear una barra de progreso basada en texto, que es desplegada en pantalla a partir de un bucle. Además de la barra de progreso, incluye porcentaje, tiempo transcurrido y remanente, y el número de iteraciones por segundo."
   ]
  },
  {
   "cell_type": "code",
   "execution_count": 13,
   "id": "d19ca626",
   "metadata": {
    "scrolled": true
   },
   "outputs": [
    {
     "name": "stdout",
     "output_type": "stream",
     "text": [
      "¿Desea extraer un número exacto de genes?, S/NS\n",
      "Ingrese el número de genes que desea extraer de cada hoja: 2\n",
      "Progreso de las hojas del excel\n"
     ]
    },
    {
     "data": {
      "application/vnd.jupyter.widget-view+json": {
       "model_id": "6f16945c48ef4b7dba7594287ebe3277",
       "version_major": 2,
       "version_minor": 0
      },
      "text/plain": [
       "  0%|          | 0/18 [00:00<?, ?it/s]"
      ]
     },
     "metadata": {},
     "output_type": "display_data"
    },
    {
     "name": "stdout",
     "output_type": "stream",
     "text": [
      "\n",
      "Progreso de los genes en la hoja actual\n"
     ]
    },
    {
     "data": {
      "application/vnd.jupyter.widget-view+json": {
       "model_id": "e90b4672414a45d38876350148d91b06",
       "version_major": 2,
       "version_minor": 0
      },
      "text/plain": [
       "  0%|          | 0/2 [00:00<?, ?it/s]"
      ]
     },
     "metadata": {},
     "output_type": "display_data"
    },
    {
     "name": "stdout",
     "output_type": "stream",
     "text": [
      "Hoja Actual: C1 Milagros     Gen actual: LOC102173449\n",
      "Progreso de los genes en la hoja actual\n"
     ]
    },
    {
     "data": {
      "application/vnd.jupyter.widget-view+json": {
       "model_id": "ccffdddce8514e5f8240e7f6973043ee",
       "version_major": 2,
       "version_minor": 0
      },
      "text/plain": [
       "  0%|          | 0/2 [00:00<?, ?it/s]"
      ]
     },
     "metadata": {},
     "output_type": "display_data"
    },
    {
     "name": "stdout",
     "output_type": "stream",
     "text": [
      "Hoja Actual: C2 Wilmer     Gen actual: C2H1orf64629\n",
      "Progreso de los genes en la hoja actual\n"
     ]
    },
    {
     "data": {
      "application/vnd.jupyter.widget-view+json": {
       "model_id": "9a932d46bd1f4a5791bd6b0605d419bf",
       "version_major": 2,
       "version_minor": 0
      },
      "text/plain": [
       "  0%|          | 0/2 [00:00<?, ?it/s]"
      ]
     },
     "metadata": {},
     "output_type": "display_data"
    },
    {
     "name": "stdout",
     "output_type": "stream",
     "text": [
      "Hoja Actual: C3 Gisell     Gen actual: LOC108633797\n",
      "Progreso de los genes en la hoja actual\n"
     ]
    },
    {
     "data": {
      "application/vnd.jupyter.widget-view+json": {
       "model_id": "a42ba5293b5d48e3a3c3a75e2b275f29",
       "version_major": 2,
       "version_minor": 0
      },
      "text/plain": [
       "  0%|          | 0/2 [00:00<?, ?it/s]"
      ]
     },
     "metadata": {},
     "output_type": "display_data"
    },
    {
     "name": "stdout",
     "output_type": "stream",
     "text": [
      "Hoja Actual: C4 Jerica     Gen actual: LOC106502075\n",
      "Progreso de los genes en la hoja actual\n"
     ]
    },
    {
     "data": {
      "application/vnd.jupyter.widget-view+json": {
       "model_id": "37c4c909463c4d55bf2a3be6e18f4e56",
       "version_major": 2,
       "version_minor": 0
      },
      "text/plain": [
       "  0%|          | 0/2 [00:00<?, ?it/s]"
      ]
     },
     "metadata": {},
     "output_type": "display_data"
    },
    {
     "name": "stdout",
     "output_type": "stream",
     "text": [
      "Hoja Actual: C5 Manuel     Gen actual: GTSF11L\n",
      "Progreso de los genes en la hoja actual\n"
     ]
    },
    {
     "data": {
      "application/vnd.jupyter.widget-view+json": {
       "model_id": "2b9e5fcac4ff4ca2a592dfe275e95492",
       "version_major": 2,
       "version_minor": 0
      },
      "text/plain": [
       "  0%|          | 0/2 [00:00<?, ?it/s]"
      ]
     },
     "metadata": {},
     "output_type": "display_data"
    },
    {
     "name": "stdout",
     "output_type": "stream",
     "text": [
      "Hoja Actual: C6 Jerica     Gen actual: TIGD23\n",
      "Progreso de los genes en la hoja actual\n"
     ]
    },
    {
     "data": {
      "application/vnd.jupyter.widget-view+json": {
       "model_id": "5140f30721a24e49bc30c4b7ef3acb68",
       "version_major": 2,
       "version_minor": 0
      },
      "text/plain": [
       "  0%|          | 0/2 [00:00<?, ?it/s]"
      ]
     },
     "metadata": {},
     "output_type": "display_data"
    },
    {
     "name": "stdout",
     "output_type": "stream",
     "text": [
      "Hoja Actual: C7 Mariana     Gen actual: TRNAS-GGA\n",
      "Progreso de los genes en la hoja actual\n"
     ]
    },
    {
     "data": {
      "application/vnd.jupyter.widget-view+json": {
       "model_id": "36760f6dd4c243d4b85848172509b334",
       "version_major": 2,
       "version_minor": 0
      },
      "text/plain": [
       "  0%|          | 0/2 [00:00<?, ?it/s]"
      ]
     },
     "metadata": {},
     "output_type": "display_data"
    },
    {
     "name": "stdout",
     "output_type": "stream",
     "text": [
      "Hoja Actual: C8 Rosha     Gen actual: SLC24A282592\n",
      "Progreso de los genes en la hoja actual\n"
     ]
    },
    {
     "data": {
      "application/vnd.jupyter.widget-view+json": {
       "model_id": "a41db27770a2456f9be7881c70da65eb",
       "version_major": 2,
       "version_minor": 0
      },
      "text/plain": [
       "  0%|          | 0/2 [00:00<?, ?it/s]"
      ]
     },
     "metadata": {},
     "output_type": "display_data"
    },
    {
     "name": "stdout",
     "output_type": "stream",
     "text": [
      "Hoja Actual: C9 Jerica     Gen actual: LOC102189482\n",
      "Progreso de los genes en la hoja actual\n"
     ]
    },
    {
     "data": {
      "application/vnd.jupyter.widget-view+json": {
       "model_id": "643f415272064b26ba06eaac04a8f841",
       "version_major": 2,
       "version_minor": 0
      },
      "text/plain": [
       "  0%|          | 0/2 [00:00<?, ?it/s]"
      ]
     },
     "metadata": {},
     "output_type": "display_data"
    },
    {
     "name": "stdout",
     "output_type": "stream",
     "text": [
      "Hoja Actual: C10 Lucero     Gen actual: CTDSPL2\n",
      "Progreso de los genes en la hoja actual\n"
     ]
    },
    {
     "data": {
      "application/vnd.jupyter.widget-view+json": {
       "model_id": "b9f4fadabbdc46038f9c456b1323f811",
       "version_major": 2,
       "version_minor": 0
      },
      "text/plain": [
       "  0%|          | 0/2 [00:00<?, ?it/s]"
      ]
     },
     "metadata": {},
     "output_type": "display_data"
    },
    {
     "name": "stdout",
     "output_type": "stream",
     "text": [
      "Hoja Actual: C11 Nicole     Gen actual: LOC102171344\n",
      "Progreso de los genes en la hoja actual\n"
     ]
    },
    {
     "data": {
      "application/vnd.jupyter.widget-view+json": {
       "model_id": "0f98dedb59b64525bce080dbf5b5c61f",
       "version_major": 2,
       "version_minor": 0
      },
      "text/plain": [
       "  0%|          | 0/2 [00:00<?, ?it/s]"
      ]
     },
     "metadata": {},
     "output_type": "display_data"
    },
    {
     "name": "stdout",
     "output_type": "stream",
     "text": [
      "Hoja Actual: C12 Gisell     Gen actual: LOC102168554\n",
      "Progreso de los genes en la hoja actual\n"
     ]
    },
    {
     "data": {
      "application/vnd.jupyter.widget-view+json": {
       "model_id": "0346268136d247c8a5a63b5b9f9ca874",
       "version_major": 2,
       "version_minor": 0
      },
      "text/plain": [
       "  0%|          | 0/2 [00:00<?, ?it/s]"
      ]
     },
     "metadata": {},
     "output_type": "display_data"
    },
    {
     "name": "stdout",
     "output_type": "stream",
     "text": [
      "Hoja Actual: C13 Lucero     Gen actual: SPTLC3637349\n",
      "Progreso de los genes en la hoja actual\n"
     ]
    },
    {
     "data": {
      "application/vnd.jupyter.widget-view+json": {
       "model_id": "d9b11589958b40c695fe87c1ab4efc14",
       "version_major": 2,
       "version_minor": 0
      },
      "text/plain": [
       "  0%|          | 0/2 [00:00<?, ?it/s]"
      ]
     },
     "metadata": {},
     "output_type": "display_data"
    },
    {
     "name": "stdout",
     "output_type": "stream",
     "text": [
      "Hoja Actual: C14 Wilmer     Gen actual: ERICH5\n",
      "Progreso de los genes en la hoja actual\n"
     ]
    },
    {
     "data": {
      "application/vnd.jupyter.widget-view+json": {
       "model_id": "6682d5118c1b48288f820ba8571d0e79",
       "version_major": 2,
       "version_minor": 0
      },
      "text/plain": [
       "  0%|          | 0/2 [00:00<?, ?it/s]"
      ]
     },
     "metadata": {},
     "output_type": "display_data"
    },
    {
     "name": "stdout",
     "output_type": "stream",
     "text": [
      "Hoja Actual: C15Milagros     Gen actual: LOC102178926\n",
      "Progreso de los genes en la hoja actual\n"
     ]
    },
    {
     "data": {
      "application/vnd.jupyter.widget-view+json": {
       "model_id": "dc6b08c590e0462e8ca3ff6f0cbdde50",
       "version_major": 2,
       "version_minor": 0
      },
      "text/plain": [
       "  0%|          | 0/2 [00:00<?, ?it/s]"
      ]
     },
     "metadata": {},
     "output_type": "display_data"
    },
    {
     "name": "stdout",
     "output_type": "stream",
     "text": [
      "Hoja Actual: C16     Gen actual: BECN2\n",
      "Progreso de los genes en la hoja actual\n"
     ]
    },
    {
     "data": {
      "application/vnd.jupyter.widget-view+json": {
       "model_id": "cd23818fb1094b4288cb6a6ae3a70714",
       "version_major": 2,
       "version_minor": 0
      },
      "text/plain": [
       "  0%|          | 0/2 [00:00<?, ?it/s]"
      ]
     },
     "metadata": {},
     "output_type": "display_data"
    },
    {
     "name": "stdout",
     "output_type": "stream",
     "text": [
      "Hoja Actual: C17     Gen actual: LOC102173595\n",
      "Progreso de los genes en la hoja actual\n"
     ]
    },
    {
     "data": {
      "application/vnd.jupyter.widget-view+json": {
       "model_id": "887c58b220c24083af45d9428cffbbcb",
       "version_major": 2,
       "version_minor": 0
      },
      "text/plain": [
       "  0%|          | 0/2 [00:00<?, ?it/s]"
      ]
     },
     "metadata": {},
     "output_type": "display_data"
    },
    {
     "name": "stdout",
     "output_type": "stream",
     "text": [
      "Hoja Actual: C18     Gen actual: LOC106503091"
     ]
    }
   ],
   "source": [
    "from tqdm.notebook import tqdm    # Se importa la libreria tqdm.notebook para una mejor visualización en el proceso de extracción de los datos\n",
    "writer = pd.ExcelWriter('GenesRepository.xlsx', engine='openpyxl') \n",
    "n_genes=num_genes()               # Se guarda la función en un objeto por comodidad\n",
    "print(\"Progreso de las hojas del excel\")\n",
    "for j in tqdm(range(len(links))): # Se va de hoja en hoja \n",
    "    lista = links[j]\n",
    "    htmlList=[]\n",
    "    datos=[]\n",
    "    print(\"\\nProgreso de los genes en la hoja actual\")\n",
    "    #Se solicita el mínimo de entre la cantidad de elementos de la lista y la cantidad de genes solicitados \n",
    "    for i in tqdm(range(min(len(lista),n_genes))):#Se va de gen en gen \n",
    "        print(\"\\rHoja Actual: \"+nombres[j+1]+\"     Gen actual: \"+genes[j][i],end=\"\")\n",
    "        link=lista[i]\n",
    "        r = requests.get(link) # Acceder a los datos de los links\n",
    "        soup = BeautifulSoup(r.text, 'lxml')\n",
    "        html=soup\n",
    "        datos1=[]\n",
    "        if html.find(\"td\",{\"class\":\"entryID\"})!=None:\n",
    "            datos1.append(html.find(\"td\",{'class':\"entryID\"}).a.text)\n",
    "            # Añadimos a la lista datos1 los valores que tengan como etiqueda td y  clase EntryID, el cual nos va permitir extraer los \n",
    "            # Entryname del documento, con el atributo find_next_sibiling atraemos la columna que tenga td y la convertimos en texto \n",
    "            datos1.append(html.find(\"td\",{'class':\"entryID\"}).find_next_sibling(\"td\").text)\n",
    "            # Creamos un objeto y le añadimos el link de la pagina y concatenamos los valores obtenidos sobre entryID con el fin \n",
    "            # de vaya variando para todos los genes \n",
    "            link='https://www.uniprot.org'+html.find(\"td\",{'class':\"entryID\"}).a['href']\n",
    "            # Volvemos hacer un request, pero esta vez para link \n",
    "            r1=requests.get(link)\n",
    "            #Ahora creamos un objeto y vamos abrir el archivo con Beatifulsoup con el parser lxml\n",
    "            #Lo cual va lograr que el proceso sea mas largo.\n",
    "            soup1=BeautifulSoup(r1.text, 'lxml')\n",
    "            #Extraemos y añadimos a la lista datos 1, con el metodo find extraemos los valores \n",
    "            #Que tengan etiqueta div y que sea de propiedad id y valor content-protein, y que la etiqueta sea h1 en este caso seran los nombres de las proteinas. \n",
    "            datos1.append(soup1.find(\"div\",{'id':\"content-protein\"}).h1.text)\n",
    "            # Ahora creamos un bucle, si el valor que buscamos con etiqueta div y que sea de propiedad id y valor content-gene es diferente de nulo\n",
    "            # Se continua con el proceso, es decir si el nombre del gen es diferente de Nulo ejecutar las siguientes lineas. \n",
    "            if soup1.find(\"div\",{'id':\"content-gene\"}).h2!=None:\n",
    "                #Mediante este codigo buscamos y añadimos el valor que tenga etiqueta div y que sea de propiedad id y valor content-gene, tambien debe cumplir con tener la etiqueta h2\n",
    "                datos1.append(soup1.find(\"div\",{'id':\"content-gene\"}).h2.text)\n",
    "            #De lo contrario \n",
    "            else:\n",
    "                # En caso de no encontrar nada, adicionar un valor nulo a la lista  \n",
    "                datos1.append(None)\n",
    "            # Buscamos y  añadimos el organismo del gen, estos deben cumplir la condicion que tenga etiqueta div y que sea de propiedad id y valor conten-organism y \n",
    "            #con el metodo split separamos el nombre en dos y con cero indicamos que queremos añadir solo el primer elemento de la lista \n",
    "            datos1.append(soup1.find(\"div\",{'id':\"content-organism\"}).text.split(\" (\")[0])\n",
    "            #Buscamos y  añadimos el estatus del gen, estos deben cumplir la condicion que tenga etiqueta div y que sea de propiedad id y valor conten-status, ademas debe cumplir con tener la etiqueta a para finalmente extraer el texto \n",
    "            datos1.append(soup1.find(\"div\",{'id':\"content-status\"}).a.text)\n",
    "            #Para poder obtener los procesos biologicos, se crea un funcion la cual nos va permitir encontrar en los html oen los sub\n",
    "            # la propiedad name h4, luego se realizara un tag.text y encontrara \"GO - Biological process\"\n",
    "            tag = soup1.find(lambda tag:tag.name==\"h4\" and \"GO - Biological process\" in tag.text)\n",
    "            #Se crea un bucle, si en caso de no encontrar el valor el tag \n",
    "            if(tag==None):\n",
    "                # Se debe adicionar a la lista un valor nulo \n",
    "                datos1.append(None)\n",
    "            #De lo contraria, si existen valores para tag \n",
    "            else: \n",
    "                # Como queremos el contenido de procesos biologicos, eso lo vamos a lograr con el metodo next_sibling  para despues almacernarlo en una lista \n",
    "                lists= tag.next_sibling\n",
    "                # Creamos una lista vacia\n",
    "                listaTemp=[]\n",
    "                # Creanos un bucle for \n",
    "                for l in lists:\n",
    "                    #Añadimos a la lista los contenidos, pero como salen acompañados de la palabra \"Souce\" la separamos mediante el metodo split, para asi con el 0 seleccionar solo el primer elemento de la lista\n",
    "                    listaTemp.append(l.text.split(\" Source\")[0])\n",
    "                #Esto sirve para que en la data frame que vamos a trabajar no aparezca como lista, sino los valores aparezcan separados por comas \n",
    "                datos1.append(\",\".join(listaTemp))\n",
    "        if not any(datos1):# si no existe ningun dato en la lista \"datos1\"\n",
    "            datos1=[None,None,None,None,None,None,None]        \n",
    "        #Añadimos los valores de la lista datos1\n",
    "        datos.append(datos1)\n",
    "    #Creamos un data frame y lo guardamos en el objeto df_datos, ademas indicamos el nombre de sus columnas \n",
    "    df_datos=pd.DataFrame(datos, columns=[\"Entry\",\"Entry name\",\"Protein\",\"Gene\",\"Organism\",\"Status\",\"GO - Biological process\"])\n",
    "    # Creamos un data frame para los genes y una columna con el nombre de Gen Abrev \n",
    "    df_genes=pd.DataFrame(genes[j],columns=[\"Gen Abrev\"])\n",
    "    #Concatenamos ambos data frame y con axis decimos que sea mediante columnas\n",
    "    df_final=pd.concat([df_genes.head(n_genes),df_datos],axis=1)\n",
    "    #Se coloca un título al index\n",
    "    df_final.index.name='N°'\n",
    "    #Ahora se cambia los valores, si dentro aparece \"None\" se cambia por \"NaN\"\n",
    "    df_final=df_final.fillna(value='NaN')\n",
    "    #Con esta parte se escribe en la hoja de excel y asi va yendo de una en una. \n",
    "    df_final.to_excel(writer,sheet_name=nombres[j+1])\n",
    "    #Con el metodo .save guardamos toda la informacion para que sea visible \n",
    "    writer.save()# Se cierra el simulador de webDriver "
   ]
  }
 ],
 "metadata": {
  "kernelspec": {
   "display_name": "Python 3 (ipykernel)",
   "language": "python",
   "name": "python3"
  },
  "language_info": {
   "codemirror_mode": {
    "name": "ipython",
    "version": 3
   },
   "file_extension": ".py",
   "mimetype": "text/x-python",
   "name": "python",
   "nbconvert_exporter": "python",
   "pygments_lexer": "ipython3",
   "version": "3.8.11"
  }
 },
 "nbformat": 4,
 "nbformat_minor": 5
}
